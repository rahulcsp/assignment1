{
 "cells": [
  {
   "cell_type": "code",
   "execution_count": 3,
   "id": "b856c414-bd6d-46e6-8cfe-793842d2cb3b",
   "metadata": {},
   "outputs": [
    {
     "ename": "SyntaxError",
     "evalue": "incomplete input (2481239446.py, line 16)",
     "output_type": "error",
     "traceback": [
      "\u001b[0;36m  Cell \u001b[0;32mIn[3], line 16\u001b[0;36m\u001b[0m\n\u001b[0;31m    \"\"\"\u001b[0m\n\u001b[0m    ^\u001b[0m\n\u001b[0;31mSyntaxError\u001b[0m\u001b[0;31m:\u001b[0m incomplete input\n"
     ]
    }
   ],
   "source": [
    "#How do you comment code in Python? What are the different types of comments?\n",
    "\n",
    "\"\"\"\n",
    "In computer programming, comments are hints that we use to make our code more understandable.\n",
    "Comments are completely ignored by the interpreter. They are meant for fellow programmers.\n",
    "\n",
    "Type of comments : Single Line and MultiLine\n",
    "Single line represented by #        : \n",
    "Ex. # This is comment\n",
    "\n",
    "Multi Line represented or performed by starting and ending comment by 3 double appostrophy \"\"\" \n",
    "\"\"\" This \n",
    "is multine \n",
    "comment \"\"\"\n",
    "\n",
    "\"\"\"\n"
   ]
  },
  {
   "cell_type": "code",
   "execution_count": 4,
   "id": "32ea275f-89cc-4265-89ef-c42d82bb9a1a",
   "metadata": {},
   "outputs": [
    {
     "data": {
      "text/plain": [
       "'In Python, variables need not be declared or defined in advance, as is the case in many other programming languages. \\nTo create a variable, you just assign it a value and then start using it.\\nAssignment is done with a single equals sign (=)'"
      ]
     },
     "execution_count": 4,
     "metadata": {},
     "output_type": "execute_result"
    }
   ],
   "source": [
    "#What are variables in Python? How do you declare and assign values to variables?\n",
    "\"\"\"A variable is more like a container to store the data in the computer’s memory, \n",
    "the name of the variable tells the computer where to find this value in the memory.\"\"\"\n",
    "\n",
    "\"\"\"In Python, variables need not be declared or defined in advance, as is the case in many other programming languages. \n",
    "To create a variable, you just assign it a value and then start using it.\n",
    "Assignment is done with a single equals sign (=)\"\"\""
   ]
  },
  {
   "cell_type": "code",
   "execution_count": 5,
   "id": "0e2a370e-2f4d-47f5-8944-d1d0722eae02",
   "metadata": {},
   "outputs": [
    {
     "name": "stdout",
     "output_type": "stream",
     "text": [
      "type of A <class 'int'>\n",
      "Implicit type conversion <class 'float'>\n",
      "type before typecasting <class 'str'>\n",
      "Type post typecasting <class 'int'>\n"
     ]
    }
   ],
   "source": [
    "#How do you convert one data type to another in Python?\n",
    "\n",
    "\"\"\"\n",
    "Key Points to Remember\n",
    "Type Conversion is the conversion of an object from one data type to another data type.\n",
    "Implicit Type Conversion is automatically performed by the Python interpreter.\n",
    "Python avoids the loss of data in Implicit Type Conversion.\n",
    "Explicit Type Conversion is also called Type Casting, the data types of objects are converted using predefined functions by the user.\n",
    "In Type Casting, loss of data may occur as we enforce the object to a specific data type.\n",
    "\n",
    "\"\"\"\n",
    "\n",
    "# implicit Type conversion\n",
    "A=123\n",
    "B=2.1\n",
    "print(\"type of A\",type(A))\n",
    "\n",
    "c=A+B\n",
    "print(\"Implicit type conversion\",type(c))\n",
    "\n",
    "\n",
    "#Explicit Type conversion\n",
    "A=123\n",
    "M='2'\n",
    "print(\"type before typecasting\",type(M))\n",
    "M=int(M)\n",
    "print(\"Type post typecasting\",type(M))"
   ]
  },
  {
   "cell_type": "code",
   "execution_count": 5,
   "id": "4db4b54e-5f00-4139-aa8c-4a575de12694",
   "metadata": {},
   "outputs": [
    {
     "data": {
      "text/plain": [
       "\"\\nFirstly create a simple pthon program in notepad or any text editor and save by extension .py\\nSample code : \\nprint('Hello World!')\\n\\nNow goto command prompt.Run the script saved above in below format.\\npython first_script.py\\nHello World!\\n\""
      ]
     },
     "execution_count": 5,
     "metadata": {},
     "output_type": "execute_result"
    }
   ],
   "source": [
    "#How do you write and execute a Python script from the command line?\n",
    "\"\"\"\n",
    "Firstly create a simple pthon program in notepad or any text editor and save by extension .py\n",
    "Sample code : \n",
    "print('Hello World!')\n",
    "\n",
    "Now goto command prompt.Run the script saved above in below format.\n",
    "python first_script.py\n",
    "Hello World!\n",
    "\"\"\""
   ]
  },
  {
   "cell_type": "code",
   "execution_count": 38,
   "id": "12bb1310-9f47-4898-9153-73eea3d5357c",
   "metadata": {},
   "outputs": [
    {
     "name": "stdout",
     "output_type": "stream",
     "text": [
      "[2, 3]\n"
     ]
    }
   ],
   "source": [
    "#Given a list my_list = [1, 2, 3, 4, 5], write the code to slice the list and obtain the sub-list [2, 3].\n",
    "\n",
    "my_list = [1,2,3,4,5]\n",
    "my_list=my_list[1:3]\n",
    "print(my_list)"
   ]
  },
  {
   "cell_type": "code",
   "execution_count": 40,
   "id": "da8cfcf4-070d-4ba3-b454-272ab6c31674",
   "metadata": {},
   "outputs": [
    {
     "name": "stdout",
     "output_type": "stream",
     "text": [
      "(1+3j)\n"
     ]
    }
   ],
   "source": [
    "#What is a complex number in mathematics, and how is it represented in Python?\n",
    "\"\"\"\n",
    "Complex numbers are the numbers that are expressed in the form of a+ib where, a,b are real numbers \n",
    "and  ‘i’ is an imaginary number called “iota”.\n",
    "Complex number is used in Electronics.\n",
    "Complex number is used in Electromagnetism.\n",
    "\"\"\"\n",
    "#Complex number representation ::complex([real[, imag]])\n",
    "A=complex(1,3)\n",
    "print(A)"
   ]
  },
  {
   "cell_type": "code",
   "execution_count": 42,
   "id": "090b62c0-0984-426f-ac9e-c03c4560df72",
   "metadata": {},
   "outputs": [
    {
     "name": "stdout",
     "output_type": "stream",
     "text": [
      "25\n"
     ]
    }
   ],
   "source": [
    "# What is the correct way to declare a variable named age and assign the value 25 to it?\n",
    "age=25\n",
    "print(age)"
   ]
  },
  {
   "cell_type": "code",
   "execution_count": 49,
   "id": "000de163-bea0-47e5-ba44-5e892265e706",
   "metadata": {},
   "outputs": [
    {
     "name": "stdout",
     "output_type": "stream",
     "text": [
      "data type of price :  <class 'float'>\n"
     ]
    }
   ],
   "source": [
    "#Declare a variable named price and assign the value 9.99 to it. What data type does this variable belong?\n",
    "price=9.99\n",
    "print(\"data type of price : \",type(price))"
   ]
  },
  {
   "cell_type": "code",
   "execution_count": 54,
   "id": "40836515-0e36-4a87-a364-10488e57a942",
   "metadata": {},
   "outputs": [
    {
     "name": "stdout",
     "output_type": "stream",
     "text": [
      "value of name variable:  Rahul Soni\n"
     ]
    }
   ],
   "source": [
    "#Create a variable named name and assign your full name. How would you print the value of this variable?\n",
    "name=\"Rahul Soni\"\n",
    "print(\"value of name variable: \",name)"
   ]
  },
  {
   "cell_type": "code",
   "execution_count": 66,
   "id": "55a99070-92ec-428d-9c2f-a7650fdce416",
   "metadata": {},
   "outputs": [
    {
     "name": "stdout",
     "output_type": "stream",
     "text": [
      "World\n"
     ]
    }
   ],
   "source": [
    "#Given the string \"Hello, World!\", extract the substring \"World\".\n",
    "\n",
    "x=\"Hello, World!\"\n",
    "s=print(x[7:12])"
   ]
  },
  {
   "cell_type": "code",
   "execution_count": 69,
   "id": "8d0c7543-aa23-4962-8867-d48839d8365c",
   "metadata": {},
   "outputs": [
    {
     "name": "stdout",
     "output_type": "stream",
     "text": [
      "True\n"
     ]
    }
   ],
   "source": [
    "#Create a variable named \"is_student\" and assign it a boolean value indicating whether you are currently a student or not.\n",
    "is_student=True\n",
    "print(is_student)"
   ]
  },
  {
   "cell_type": "code",
   "execution_count": null,
   "id": "edecddb3-a4c0-48e3-b8cd-dcf5ab948e6d",
   "metadata": {},
   "outputs": [],
   "source": []
  }
 ],
 "metadata": {
  "kernelspec": {
   "display_name": "Python 3 (ipykernel)",
   "language": "python",
   "name": "python3"
  },
  "language_info": {
   "codemirror_mode": {
    "name": "ipython",
    "version": 3
   },
   "file_extension": ".py",
   "mimetype": "text/x-python",
   "name": "python",
   "nbconvert_exporter": "python",
   "pygments_lexer": "ipython3",
   "version": "3.10.8"
  }
 },
 "nbformat": 4,
 "nbformat_minor": 5
}
