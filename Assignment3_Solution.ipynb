{
 "cells": [
  {
   "cell_type": "code",
   "execution_count": 50,
   "id": "b9405650-5961-4b68-8715-8ba06a2d7cf9",
   "metadata": {},
   "outputs": [
    {
     "data": {
      "text/plain": [
       "[1, 3, 5, 7, 9, 11, 13, 15, 17, 19, 21, 23, 25]"
      ]
     },
     "execution_count": 50,
     "metadata": {},
     "output_type": "execute_result"
    }
   ],
   "source": [
    "# Q1: Which keyword is used to create a function? \n",
    "# Answer : def keyword is used to create a function in python. \n",
    "\n",
    "# Q1(part2) :Create a function to return a list of odd numbers in the range of 1 to 25\"\"\"\n",
    "# answer1(methodA) : Using lambda and filter function\n",
    "k=[1,2,3,4,5,6,7,8,9,10,11,12,13,14,15,16,17,18,19,20,21,22,23,24,25]\n",
    "list(filter(lambda x:x%2!=0,k))\n",
    "\n"
   ]
  },
  {
   "cell_type": "code",
   "execution_count": 51,
   "id": "8039f24c-793a-4aeb-9a32-14539284ee64",
   "metadata": {},
   "outputs": [],
   "source": [
    "# answer1(methodB) : Using defining a function by simple \"def\" keyword\n",
    "\n",
    "def oddf(x):\n",
    "    t=[]\n",
    "    for i in x:\n",
    "        if i%2!=0:\n",
    "            t.append(i)\n",
    "    return print(t)"
   ]
  },
  {
   "cell_type": "code",
   "execution_count": 52,
   "id": "bcde8bbc-8f24-45d8-b222-56ed6fc5c418",
   "metadata": {},
   "outputs": [
    {
     "name": "stdout",
     "output_type": "stream",
     "text": [
      "[1, 3, 5, 7, 9, 11, 13, 15, 17, 19, 21, 23, 25]\n"
     ]
    }
   ],
   "source": [
    "oddf(k)"
   ]
  },
  {
   "cell_type": "code",
   "execution_count": 18,
   "id": "b7626e61-c1c9-4e98-8c14-5884a68e563c",
   "metadata": {},
   "outputs": [
    {
     "data": {
      "text/plain": [
       "((1, 24, 5, 6), 5)"
      ]
     },
     "execution_count": 18,
     "metadata": {},
     "output_type": "execute_result"
    }
   ],
   "source": [
    "# Q2(partA) : Why *args and **kwargs is used in some functions? \n",
    "# Answer2(partB): \n",
    "               #* args: pass as much as values in function. can take multiple intputs inside the function. Values required in single value format. returns tuple format\n",
    "               #** kwargs : pass as much as values in function. can take multiple intputs inside the function. Values required in two value's format.returns dictionary format\n",
    "\n",
    "\n",
    "#Q2(partB) : Create a function each for *args and **kwargs\n",
    "\n",
    "# *args:\n",
    "\n",
    "def testargs(*args,a):\n",
    "    return args,a\n",
    "testargs(1,24,5,6,a=5)"
   ]
  },
  {
   "cell_type": "code",
   "execution_count": 21,
   "id": "2c02c72e-0a0c-4366-83ab-bea2e1496843",
   "metadata": {},
   "outputs": [
    {
     "data": {
      "text/plain": [
       "{'a': 1, 'b': 2, 'l': 3}"
      ]
     },
     "execution_count": 21,
     "metadata": {},
     "output_type": "execute_result"
    }
   ],
   "source": [
    "# **kwargs\n",
    "\n",
    "def testkwargs(**kwargs):\n",
    "    return kwargs\n",
    "testkwargs(a=1,b=2,l=3)"
   ]
  },
  {
   "cell_type": "code",
   "execution_count": 41,
   "id": "3c034474-5169-455b-b161-5a14dcd39761",
   "metadata": {},
   "outputs": [
    {
     "name": "stdout",
     "output_type": "stream",
     "text": [
      "2\n",
      "4\n",
      "6\n",
      "8\n",
      "10\n"
     ]
    }
   ],
   "source": [
    "# Q3 partA: What is an iterator in python? \n",
    "\n",
    "\"\"\"An iterator in Python is an object that is used to iterate over \n",
    "iterable objects like lists, tuples, dicts, and sets. \n",
    "The Python iterators object is initialized using the iter() method. \n",
    "It uses the next() method for iteration.\"\"\"\n",
    "\n",
    "# Q3partB \"Name the method used to initialise the iterator object and the method used for iteration. \n",
    "\"\"\"\n",
    "__iter__(): The iter() method is called for the initialization of an iterator. This returns an iterator object\n",
    "__next__(): The next method returns the next value for the iterable.\n",
    "\n",
    "When we use a for loop to traverse any iterable object, \n",
    "internally it uses the iter() method to get an iterator object, \n",
    "which further uses the next() method to iterate over. \n",
    "This method raises a StopIteration to signal the end of the iteration.\n",
    "\"\"\"\n",
    "\n",
    "# Q3 Part c: Print the first five elements of the given list [2, 4, 6, 8, 10, 12, 14,16, 18, 20].\n",
    "\n",
    "p=[2, 4, 6, 8, 10, 12, 14,16, 18, 20]\n",
    "k=iter(p)\n",
    "index=0\n",
    "while index < 5:\n",
    "    a=next(k)\n",
    "    print(a)\n",
    "    index=index+1   \n",
    "            "
   ]
  },
  {
   "cell_type": "code",
   "execution_count": 77,
   "id": "22a072ad-1ce1-4715-beba-af4a55cee38d",
   "metadata": {},
   "outputs": [
    {
     "name": "stdin",
     "output_type": "stream",
     "text": [
      " 10\n"
     ]
    },
    {
     "name": "stdout",
     "output_type": "stream",
     "text": [
      "0\n",
      "1\n",
      "1\n",
      "2\n",
      "3\n",
      "5\n",
      "8\n",
      "13\n",
      "21\n",
      "34\n"
     ]
    }
   ],
   "source": [
    "# Q4(partA) What is a generator function in python? \n",
    "\"\"\"\n",
    " A generator-function is defined like a normal function, but whenever it needs to generate a value, \n",
    " it does so with the yield keyword rather than return. \n",
    " If the body of a def contains yield, the function automatically becomes a generator function. \n",
    "\"\"\"\n",
    "\n",
    "\n",
    "#Q4(partB) Why yield keyword is used? \n",
    "\"\"\"\n",
    "the yield keyword will convert an expression that is specified along with it to a generator object \n",
    "and return it to the caller. \n",
    "\"\"\"\n",
    "\n",
    "#Q4(partC) Give an example of a generator function.\n",
    "\n",
    "def test_f(l):\n",
    "    a,b=0,1\n",
    "    i = 1\n",
    "    while i <= l:\n",
    "        yield a\n",
    "        i+=1\n",
    "        a,b=b,a+b\n",
    "F=test_f(int(input()))\n",
    "\n",
    "for value in F:\n",
    "    print(value)"
   ]
  },
  {
   "cell_type": "code",
   "execution_count": 78,
   "id": "4811a17d-198b-481f-a2b0-e5eaae41bafd",
   "metadata": {},
   "outputs": [
    {
     "name": "stdin",
     "output_type": "stream",
     "text": [
      " 10\n"
     ]
    },
    {
     "name": "stdout",
     "output_type": "stream",
     "text": [
      "0\n",
      "1\n",
      "1\n",
      "2\n",
      "3\n",
      "5\n",
      "8\n",
      "13\n",
      "21\n",
      "34\n"
     ]
    }
   ],
   "source": [
    "# Q6 Write python program to print the first 10 Fibonacci numbers using a while loop.\n",
    "def test_f(l):\n",
    "    a,b=0,1\n",
    "    i = 1\n",
    "    while i <= l:\n",
    "        yield a\n",
    "        i+=1\n",
    "        a,b=b,a+b\n",
    "F=test_f(int(input()))\n",
    "\n",
    "for value in F:\n",
    "    print(value)"
   ]
  },
  {
   "cell_type": "code",
   "execution_count": 12,
   "id": "275477f2-7380-45c9-a822-c6fe560d7af4",
   "metadata": {},
   "outputs": [
    {
     "data": {
      "text/plain": [
       "['P', 'W', 'S', 'K', 'I', 'L', 'L', 'S']"
      ]
     },
     "execution_count": 12,
     "metadata": {},
     "output_type": "execute_result"
    }
   ],
   "source": [
    "# Q7.Write a List Comprehension to iterate through the given string: ‘pwskills’.\n",
    "#  Expected output: ['p', 'w', 's', 'k', 'i', 'l', 'l', 's']\n",
    "\n",
    "T=\"PWSKILLS\"\n",
    "list(i for i in T )"
   ]
  },
  {
   "cell_type": "code",
   "execution_count": 79,
   "id": "f443de27-e083-47b0-88cc-bc1fca48b808",
   "metadata": {},
   "outputs": [
    {
     "name": "stdin",
     "output_type": "stream",
     "text": [
      "Enter a value: 121\n"
     ]
    },
    {
     "name": "stdout",
     "output_type": "stream",
     "text": [
      "This value is a palindrome number!\n"
     ]
    }
   ],
   "source": [
    "# Q8. Write a python program to check whether a given number is Palindrome or not using a while loop.\n",
    "\n",
    "num = int(input(\"Enter a value:\"))  \n",
    "temp = num  \n",
    "rev = 0  \n",
    "while(num > 0):  \n",
    "    dig = num % 10  \n",
    "    rev = rev * 10 + dig  \n",
    "    num = num // 10  \n",
    "if(temp == rev):  \n",
    "    print(\"This value is a palindrome number!\")  \n",
    "else:  \n",
    "    print(\"This value is not a palindrome number!\")  "
   ]
  },
  {
   "cell_type": "code",
   "execution_count": 73,
   "id": "5e17bcf4-5022-41e9-ab65-1cb7941363ab",
   "metadata": {},
   "outputs": [
    {
     "name": "stdout",
     "output_type": "stream",
     "text": [
      "[0, 1, 2, 3, 4, 5, 6, 7, 8, 9, 10, 11, 12, 13, 14, 15, 16, 17, 18, 19, 20, 21, 22, 23, 24, 25, 26, 27, 28, 29, 30, 31, 32, 33, 34, 35, 36, 37, 38, 39, 40, 41, 42, 43, 44, 45, 46, 47, 48, 49, 50, 51, 52, 53, 54, 55, 56, 57, 58, 59, 60, 61, 62, 63, 64, 65, 66, 67, 68, 69, 70, 71, 72, 73, 74, 75, 76, 77, 78, 79, 80, 81, 82, 83, 84, 85, 86, 87, 88, 89, 90, 91, 92, 93, 94, 95, 96, 97, 98, 99]\n",
      "[1, 3, 5, 7, 9, 11, 13, 15, 17, 19, 21, 23, 25, 27, 29, 31, 33, 35, 37, 39, 41, 43, 45, 47, 49, 51, 53, 55, 57, 59, 61, 63, 65, 67, 69, 71, 73, 75, 77, 79, 81, 83, 85, 87, 89, 91, 93, 95, 97, 99]\n"
     ]
    }
   ],
   "source": [
    "# Q9 Write a code to print odd numbers from 1 to 100 using list comprehension.\n",
    "#Note: Use a list comprehension to create a list from 1 to 100 and use another List comprehension to filter out odd numbers.\n",
    "\n",
    "k=list(i for i in range(100))\n",
    "print(k)\n",
    "p=list(m for m in k if m%2!=0)\n",
    "print(p)"
   ]
  },
  {
   "cell_type": "code",
   "execution_count": 80,
   "id": "cbe07022-44e0-4b55-b988-953f7402a663",
   "metadata": {},
   "outputs": [
    {
     "data": {
      "text/plain": [
       "1"
      ]
     },
     "execution_count": 80,
     "metadata": {},
     "output_type": "execute_result"
    }
   ],
   "source": [
    "1%10"
   ]
  },
  {
   "cell_type": "code",
   "execution_count": 81,
   "id": "eedd22fb-f446-4f46-9390-a18ab2867b8e",
   "metadata": {},
   "outputs": [
    {
     "data": {
      "text/plain": [
       "0"
      ]
     },
     "execution_count": 81,
     "metadata": {},
     "output_type": "execute_result"
    }
   ],
   "source": [
    "1//10"
   ]
  },
  {
   "cell_type": "code",
   "execution_count": null,
   "id": "c79d5198-d357-4219-9ff8-448475fd3bc8",
   "metadata": {},
   "outputs": [],
   "source": []
  }
 ],
 "metadata": {
  "kernelspec": {
   "display_name": "Python 3 (ipykernel)",
   "language": "python",
   "name": "python3"
  },
  "language_info": {
   "codemirror_mode": {
    "name": "ipython",
    "version": 3
   },
   "file_extension": ".py",
   "mimetype": "text/x-python",
   "name": "python",
   "nbconvert_exporter": "python",
   "pygments_lexer": "ipython3",
   "version": "3.10.8"
  }
 },
 "nbformat": 4,
 "nbformat_minor": 5
}
