{
 "cells": [
  {
   "cell_type": "code",
   "execution_count": 73,
   "id": "97fcd3a0-3e84-4402-9e1c-1c7000340d87",
   "metadata": {},
   "outputs": [
    {
     "name": "stdout",
     "output_type": "stream",
     "text": [
      "<class 'str'>\n",
      "<class 'list'>\n",
      "<class 'float'>\n",
      "<class 'tuple'>\n"
     ]
    }
   ],
   "source": [
    "v='string data type'   #create string data type\n",
    "print(type(v))\n",
    "\n",
    "m=[1,2,3,1.2,'acn']  #create list data type\n",
    "print(type(m))\n",
    "\n",
    "F=24.4\n",
    "print(type(F))\n",
    "\n",
    "v=(1,2,3,'b','c','d',2.4)\n",
    "print(type(v)) #print list data type"
   ]
  },
  {
   "cell_type": "code",
   "execution_count": 74,
   "id": "450e63a5-2700-4954-bc88-07d2804f568f",
   "metadata": {},
   "outputs": [
    {
     "name": "stdout",
     "output_type": "stream",
     "text": [
      "<class 'int'>\n",
      "<class 'int'>\n",
      "<class 'int'>\n",
      "<class 'float'>\n",
      "<class 'str'>\n"
     ]
    }
   ],
   "source": [
    "v=[1,2,3,1.2,'cn']#print list data type\n",
    "for i in v:      \n",
    "    print(type(i))"
   ]
  },
  {
   "cell_type": "code",
   "execution_count": 75,
   "id": "a9bbe519-6dcb-49f3-b337-cef1e887a1e7",
   "metadata": {},
   "outputs": [
    {
     "name": "stdout",
     "output_type": "stream",
     "text": [
      "<class 'str'>\n",
      "<class 'str'>\n",
      "<class 'list'>\n",
      "<class 'int'>\n"
     ]
    }
   ],
   "source": [
    "\"\"\"Explain the use of the following operators using an example:\"\"\"\n",
    "\n",
    "v='' #IDENTIFY TYPE OF DATA TYPE IN V\n",
    "print(type(v))\n",
    "v='[DS,ML,PYTHON]' #IDENTIFY TYPE OF DATA TYPE IN V\n",
    "print(type(v))\n",
    "v=['DS','ML','PYTHON'] #IDENTIFY TYPE OF DATA TYPE IN V\n",
    "print(type(v))\n",
    "v= 1 #IDENTIFY TYPE OF DATA TYPE IN V\n",
    "print(type(v))"
   ]
  },
  {
   "cell_type": "code",
   "execution_count": 76,
   "id": "5a2c201f-c61b-4a39-bbee-5eb6eee8d7b3",
   "metadata": {},
   "outputs": [
    {
     "name": "stdout",
     "output_type": "stream",
     "text": [
      "division 0.5\n",
      "exponential 100000000000000000000\n",
      "floor division 0\n",
      "modulus 10\n"
     ]
    }
   ],
   "source": [
    "\"\"\"Explain the use of the following operators using an example:\"\"\"\n",
    "\n",
    "\n",
    "# how you use : /,**.//.%\n",
    "a=10\n",
    "b =20\n",
    "print(\"division\",a/b)   #division\n",
    "print(\"exponential\",a**b)  #exponential\n",
    "print(\"floor division\",a//b)  #floordivision\n",
    "print(\"modulus\",a%b)   #modulus"
   ]
  },
  {
   "cell_type": "code",
   "execution_count": 77,
   "id": "91e230f7-a1f3-4ab7-9e81-73ef8660ebca",
   "metadata": {},
   "outputs": [
    {
     "name": "stdout",
     "output_type": "stream",
     "text": [
      "10\n",
      "['a', 'c', 'd', 1, 2, 33.4, (4+4j), True, 0, None]\n",
      "a <class 'str'>\n",
      "c <class 'str'>\n",
      "d <class 'str'>\n",
      "1 <class 'int'>\n",
      "2 <class 'int'>\n",
      "33.4 <class 'float'>\n",
      "(4+4j) <class 'complex'>\n",
      "True <class 'bool'>\n",
      "0 <class 'int'>\n",
      "None <class 'NoneType'>\n"
     ]
    }
   ],
   "source": [
    "\"\"\"Create a list of length 10 of your choice containing multiple types of data. Using for loop print the\n",
    "element and its data type.\"\"\"\n",
    "\n",
    "\n",
    "list=['a','c','d',1,2,33.4,4+4j,True,0,None]\n",
    "print(len(list))                                #Print No. of datatypes in list\n",
    "print(list)                                     #Print elements in lst\n",
    "for i in list:                                  #print data type in list\n",
    "    print(i,type(i))"
   ]
  },
  {
   "cell_type": "code",
   "execution_count": 78,
   "id": "4acc1c46-31e1-499e-9701-cc884cbf4c4e",
   "metadata": {},
   "outputs": [
    {
     "name": "stdin",
     "output_type": "stream",
     "text": [
      " 100\n",
      " 5\n"
     ]
    },
    {
     "name": "stdout",
     "output_type": "stream",
     "text": [
      "100 is divisible by 5 and can be divided 2 times.\n"
     ]
    }
   ],
   "source": [
    "\"\"\"Using a while loop, verify if the number A is purely divisible by number B and if so then how many\n",
    "times it can be divisible.\"\"\"\n",
    "\n",
    "\n",
    "A = int(input())  # The number you want to check for divisibility\n",
    "B = int(input())    # The number you want to divide by\n",
    "C=A\n",
    "count = 0  # Initialize a variable to count the number of divisions\n",
    "\n",
    "while A % B == 0:\n",
    "    A = A // B  # Update the value of A by dividing it by B\n",
    "    count += 1  # Increment the count\n",
    "\n",
    "if count > 0:\n",
    "    print(f\"{C} is divisible by {B} and can be divided {count} times.\")\n",
    "else:\n",
    "    print(f\"{C} is not divisible by {B}.\")\n"
   ]
  },
  {
   "cell_type": "code",
   "execution_count": 79,
   "id": "5af2b0cc-4536-4c6d-a28a-81fd74fdc9c9",
   "metadata": {},
   "outputs": [
    {
     "name": "stdout",
     "output_type": "stream",
     "text": [
      "7 is not divisible by 3\n",
      "12 is divisible by 3\n",
      "45 is divisible by 3\n",
      "8 is not divisible by 3\n",
      "21 is divisible by 3\n",
      "33 is divisible by 3\n",
      "17 is not divisible by 3\n",
      "9 is divisible by 3\n",
      "30 is divisible by 3\n",
      "4 is not divisible by 3\n",
      "27 is divisible by 3\n",
      "14 is not divisible by 3\n",
      "36 is divisible by 3\n",
      "22 is not divisible by 3\n",
      "18 is divisible by 3\n",
      "3 is divisible by 3\n",
      "11 is not divisible by 3\n",
      "42 is divisible by 3\n",
      "25 is not divisible by 3\n",
      "16 is not divisible by 3\n",
      "39 is divisible by 3\n",
      "6 is divisible by 3\n",
      "20 is not divisible by 3\n",
      "1 is not divisible by 3\n",
      "13 is not divisible by 3\n"
     ]
    }
   ],
   "source": [
    "\"\"\"Create a list containing 25 int type data. Using for loop and if-else condition print if the element is\n",
    "divisible by 3 or not.\"\"\"\n",
    "\n",
    "\n",
    "\n",
    "data_list = [7, 12, 45, 8, 21, 33, 17, 9, 30, 4, 27, 14, 36, 22, 18, 3, 11, 42, 25, 16, 39, 6, 20, 1, 13]\n",
    "for  i in data_list:\n",
    "    if i%3==0:\n",
    "        print(i,\"is divisible by 3\")\n",
    "    else:\n",
    "        print(i,\"is not divisible by 3\")"
   ]
  },
  {
   "cell_type": "code",
   "execution_count": 80,
   "id": "befac4a1-e245-406d-ac4b-66750ff32535",
   "metadata": {},
   "outputs": [
    {
     "data": {
      "text/plain": [
       "'\\nMutable Definition\\nMutable is when something is changeable or has the ability to change. \\nIn Python, ‘mutable’ is the ability of objects to change their values. \\nThese are often the objects that store a collection of data.\\n\\nObjects of built-in type that are mutable are:\\nLists\\nSets\\nDictionaries\\nUser-Defined Classes (It purely depends upon the user to define the characteristics) \\n\\n\\nImmutable Definition\\nImmutable is the when no change is possible over time. \\nIn Python, if the value of an object cannot be changed over time, \\nthen it is known as immutable. \\nOnce created, the value of these objects is permanent.\\n\\nObjects of built-in type that are immutable are:\\n\\nNumbers (Integer, Rational, Float, Decimal, Complex & Booleans)\\nStrings\\nTuples\\nFrozen Sets\\nUser-Defined Classes (It purely depends upon the user to define the characteristics)\\n'"
      ]
     },
     "execution_count": 80,
     "metadata": {},
     "output_type": "execute_result"
    }
   ],
   "source": [
    "\"\"\"What do you understand about mutable and immutable data types? \"\"\"\n",
    "\n",
    "\"\"\"\n",
    "Mutable Definition\n",
    "Mutable is when something is changeable or has the ability to change. \n",
    "In Python, ‘mutable’ is the ability of objects to change their values. \n",
    "These are often the objects that store a collection of data.\n",
    "\n",
    "Objects of built-in type that are mutable are:\n",
    "Lists\n",
    "Sets\n",
    "Dictionaries\n",
    "User-Defined Classes (It purely depends upon the user to define the characteristics) \n",
    "\n",
    "\n",
    "Immutable Definition\n",
    "Immutable is the when no change is possible over time. \n",
    "In Python, if the value of an object cannot be changed over time, \n",
    "then it is known as immutable. \n",
    "Once created, the value of these objects is permanent.\n",
    "\n",
    "Objects of built-in type that are immutable are:\n",
    "\n",
    "Numbers (Integer, Rational, Float, Decimal, Complex & Booleans)\n",
    "Strings\n",
    "Tuples\n",
    "Frozen Sets\n",
    "User-Defined Classes (It purely depends upon the user to define the characteristics)\n",
    "\"\"\"\n",
    "\n"
   ]
  },
  {
   "cell_type": "code",
   "execution_count": 81,
   "id": "36cd4fd7-3aec-4077-8f12-5eea20594bfc",
   "metadata": {},
   "outputs": [
    {
     "ename": "TypeError",
     "evalue": "'str' object does not support item assignment",
     "output_type": "error",
     "traceback": [
      "\u001b[0;31m---------------------------------------------------------------------------\u001b[0m",
      "\u001b[0;31mTypeError\u001b[0m                                 Traceback (most recent call last)",
      "Cell \u001b[0;32mIn[81], line 5\u001b[0m\n\u001b[1;32m      1\u001b[0m \u001b[38;5;66;03m#Give examples for (mutability and immutability) showing property.\u001b[39;00m\n\u001b[1;32m      2\u001b[0m \u001b[38;5;66;03m# string are immutable\u001b[39;00m\n\u001b[1;32m      4\u001b[0m String\u001b[38;5;241m=\u001b[39m\u001b[38;5;124m\"\u001b[39m\u001b[38;5;124mCannot change me\u001b[39m\u001b[38;5;124m\"\u001b[39m\n\u001b[0;32m----> 5\u001b[0m \u001b[43mString\u001b[49m\u001b[43m[\u001b[49m\u001b[38;5;241;43m0\u001b[39;49m\u001b[43m]\u001b[49m\u001b[38;5;241m=\u001b[39m\u001b[38;5;124m\"\u001b[39m\u001b[38;5;124m1\u001b[39m\u001b[38;5;124m\"\u001b[39m\n\u001b[1;32m      6\u001b[0m String\n",
      "\u001b[0;31mTypeError\u001b[0m: 'str' object does not support item assignment"
     ]
    }
   ],
   "source": [
    "#Give examples for (mutability and immutability) showing property.\n",
    "# string are immutable\n",
    "\n",
    "String=\"Cannot change me\"\n",
    "String[0]=\"1\"\n",
    "String"
   ]
  },
  {
   "cell_type": "code",
   "execution_count": 82,
   "id": "f23a736f-4c49-4a2a-badb-adfa4c26274e",
   "metadata": {},
   "outputs": [
    {
     "data": {
      "text/plain": [
       "[1, 200, 3, '2', 'jernf']"
      ]
     },
     "execution_count": 82,
     "metadata": {},
     "output_type": "execute_result"
    }
   ],
   "source": [
    "list=[1,2,3,\"2\",\"jernf\"]\n",
    "list[1]=200\n",
    "list"
   ]
  },
  {
   "cell_type": "code",
   "execution_count": null,
   "id": "4e9d6db8-0a8a-4507-8267-03acecc0eff1",
   "metadata": {},
   "outputs": [],
   "source": []
  }
 ],
 "metadata": {
  "kernelspec": {
   "display_name": "Python 3 (ipykernel)",
   "language": "python",
   "name": "python3"
  },
  "language_info": {
   "codemirror_mode": {
    "name": "ipython",
    "version": 3
   },
   "file_extension": ".py",
   "mimetype": "text/x-python",
   "name": "python",
   "nbconvert_exporter": "python",
   "pygments_lexer": "ipython3",
   "version": "3.10.8"
  }
 },
 "nbformat": 4,
 "nbformat_minor": 5
}
